{
 "cells": [
  {
   "cell_type": "code",
   "execution_count": 1,
   "metadata": {},
   "outputs": [],
   "source": [
    "import os\n",
    "import sys\n",
    "import numpy as np\n",
    "import implicit\n",
    "import scipy.sparse as sp\n",
    "from tqdm import tqdm_notebook\n",
    "from matplotlib import pyplot as plt\n",
    "%matplotlib inline\n",
    "import json\n",
    "import re\n",
    "import random\n",
    "import collections\n",
    "import datetime\n",
    "import pickle\n",
    "import pandas as pd\n",
    "import numpy as np\n",
    "from scipy.sparse.linalg import spsolve\n",
    "from sklearn import metrics\n",
    "from sklearn.preprocessing import normalize as sknormalize\n",
    "import random\n",
    "import concurrent.futures\n",
    "import multiprocessing as mp\n",
    "import mkl"
   ]
  },
  {
   "cell_type": "code",
   "execution_count": 2,
   "metadata": {},
   "outputs": [],
   "source": [
    "def avg(lst):\n",
    "    return sum(lst)/len(lst)"
   ]
  },
  {
   "cell_type": "code",
   "execution_count": 3,
   "metadata": {},
   "outputs": [],
   "source": [
    "def printResults():\n",
    "    print(\"reg:\", regularization)\n",
    "    print(\"alpha:\", alpha)\n",
    "    print(\"normalized:\", normali)\n",
    "    print(\"ALS\")\n",
    "    print(\"avg total:\", avg(als_tot_auc))\n",
    "    print(\"avg sh:\", avg(als_sh_auc))\n",
    "    print(\"avg mb:\", avg(als_mb_auc))\n",
    "    print(\"avg lt:\", avg(als_lt_auc))\n",
    "    print(\"POP\")\n",
    "    print(\"avg total:\", avg(pop_tot_auc))\n",
    "    print(\"avg sh:\", avg(pop_sh_auc))\n",
    "    print(\"avg mb:\", avg(pop_mb_auc))\n",
    "    print(\"avg lt:\", avg(pop_lt_auc))\n",
    "    return"
   ]
  },
  {
   "cell_type": "code",
   "execution_count": 4,
   "metadata": {},
   "outputs": [],
   "source": [
    "def loadData():\n",
    "    global playlist_names, playlist_followers, s_track_names, s_track_frequencies, mat\n",
    "    playlist_names = np.load(\"playlist_names.npy\", allow_pickle = True)\n",
    "    playlist_followers = np.load(\"playlist_followers.npy\", allow_pickle = True)\n",
    "    s_track_names = np.load(\"s_track_names.npy\", allow_pickle = True)\n",
    "    s_track_frequencies = np.load(\"s_track_frequencies.npy\", allow_pickle = True)\n",
    "    mat = sp.load_npz(\"test_set.npz\")\n",
    "    return"
   ]
  },
  {
   "cell_type": "code",
   "execution_count": 5,
   "metadata": {},
   "outputs": [],
   "source": [
    "def cutData(cutoff):\n",
    "    global playlist_names, playlist_followers, s_track_names, s_track_frequencies, mat\n",
    "    \n",
    "    #remove less popular songs from dataset, if less than 10 total playlist adds\n",
    "    mat = mat[:,:cutoff]\n",
    "    s_track_frequencies = s_track_frequencies[:cutoff]\n",
    "    s_track_names = s_track_names[:cutoff]\n",
    "    return"
   ]
  },
  {
   "cell_type": "code",
   "execution_count": 6,
   "metadata": {},
   "outputs": [],
   "source": [
    "def shuffleData():\n",
    "    global playlist_names, playlist_followers, s_track_names, s_track_frequencies, mat\n",
    "    \n",
    "    #shuffle order of playlists (rows), maintain in bookkeeping\n",
    "    shuffleInds = np.arange(np.shape(mat)[0])\n",
    "    np.random.shuffle(shuffleInds)\n",
    "    playlist_names = playlist_names[shuffleInds]\n",
    "    playlist_followers = playlist_followers[shuffleInds]\n",
    "    mat = sp.csr_matrix(mat)\n",
    "    mat = mat[shuffleInds,:]\n",
    "    return"
   ]
  },
  {
   "cell_type": "code",
   "execution_count": 7,
   "metadata": {},
   "outputs": [],
   "source": [
    "def sortData():\n",
    "    global playlist_names, playlist_followers, s_track_names, s_track_frequencies, mat\n",
    "    \n",
    "    #sort columns by track pop, maintain in names and freqs\n",
    "    sortInds = np.flip(np.argsort(np.ravel(np.sum(mat, axis=0))))\n",
    "    mat = mat[:,sortInds]\n",
    "    s_track_names = s_track_names[sortInds]\n",
    "    s_track_frequencies = s_track_frequencies[sortInds]\n",
    "    return"
   ]
  },
  {
   "cell_type": "code",
   "execution_count": 8,
   "metadata": {},
   "outputs": [],
   "source": [
    "#takes in the matrix and returns the training set, and the test set which is \n",
    "def buildData(pct_mask, test_size):\n",
    "    global playlist_names, playlist_followers, s_track_names, s_track_frequencies, mat, proj\n",
    "    global train, test, masked\n",
    "    m, n = np.shape(mat)\n",
    "    train = mat[:m - test_size,:]\n",
    "    test = mat[m - test_size:,:]\n",
    "    num_mask = np.ravel(np.ceil(np.sum(test, axis = 1) * pct_mask))\n",
    "    masked = sp.lil_matrix(np.shape(test))\n",
    "    \n",
    "    for i in range(test_size):\n",
    "        #get all indices from the test playlist where there are 1s, make a list, get 20% of them =\n",
    "        inds = random.sample(np.where(test[i,:].todense() != 0)[1].tolist(),int(num_mask[i]))\n",
    "        masked[i,inds] = 1\n",
    "        test[i,inds] = 0\n",
    "        \n",
    "    masked = sp.csr_matrix(masked)\n",
    "    return"
   ]
  },
  {
   "cell_type": "code",
   "execution_count": 9,
   "metadata": {},
   "outputs": [],
   "source": [
    "def trainModel(fctrs, reg, alpha):\n",
    "    global model, train\n",
    "    model = implicit.als.AlternatingLeastSquares(factors=fctrs,\n",
    "                                                 regularization = reg,\n",
    "                                                 calculate_training_loss=True)\n",
    "    model.fit(train.T * alpha, show_progress=True)\n",
    "    return"
   ]
  },
  {
   "cell_type": "code",
   "execution_count": 10,
   "metadata": {},
   "outputs": [],
   "source": [
    "def testData(iters):\n",
    "    for i in tqdm_notebook(range(iters)):\n",
    "        testPlaylist(i)\n",
    "    printResults()\n",
    "    return"
   ]
  },
  {
   "cell_type": "code",
   "execution_count": 11,
   "metadata": {},
   "outputs": [],
   "source": [
    "def testPlaylist(i):\n",
    "    #get sparse true vector for playlist\n",
    "    playlist = test[i,:].todense()\n",
    "    \n",
    "    #indices where we have 1s and 0s in the playlist\n",
    "    zero_inds = np.where(playlist == 0)[1]\n",
    "    one_inds = np.where(playlist == 1)[1]\n",
    "\n",
    "    #make a vector of true values to identify\n",
    "    masked_plst = np.ravel(masked[i,zero_inds].todense())\n",
    "    \n",
    "    #get als recs, zip to two parallel lists, return scores to index order\n",
    "    inds, scores = zip(*model.recommend(i, test, np.size(masked_plst), filter_items = one_inds.tolist(), filter_already_liked_items = False, recalculate_user = True))\n",
    "    inds, scores = np.array(inds), np.array(scores)\n",
    "    recs = scores[np.argsort(inds)]\n",
    "    pl_pops = pops[zero_inds]\n",
    "    #test with the masked values, the popularities excluding the places known to be \n",
    "    aurocs(masked_plst, recs, pl_pops)"
   ]
  },
  {
   "cell_type": "code",
   "execution_count": 12,
   "metadata": {},
   "outputs": [],
   "source": [
    "def aurocs(pl, recs, pl_pops):\n",
    "#Adds the auc for pops and als recs to the correct list,\n",
    "#counting ValueErrors due to having 1 or fewer entries in any of the 1/3rds.\n",
    "    global sh_valerrs, mb_valerrs, lt_valerrs, pops\n",
    "\n",
    "    sh_pl = np.copy(pl)\n",
    "    sh_pl[sh:] = 0\n",
    "                    \n",
    "    mb_pl = np.copy(pl)                \n",
    "    mb_pl[:sh] = 0\n",
    "    mb_pl[mb:] = 0\n",
    "    \n",
    "    lt_pl = np.copy(pl)\n",
    "    lt_pl[:mb] = 0\n",
    "    \n",
    "    try:\n",
    "        als_tot_auc.append(metrics.roc_auc_score(pl, recs))\n",
    "        pop_tot_auc.append(metrics.roc_auc_score(pl, pl_pops))\n",
    "    except ValueError:\n",
    "        print(\"total failure\")\n",
    "        pass\n",
    "    \n",
    "    try:\n",
    "        als_sh_auc.append(metrics.roc_auc_score(sh_pl, recs))\n",
    "        pop_sh_auc.append(metrics.roc_auc_score(sh_pl, pl_pops))        \n",
    "    except ValueError:\n",
    "        sh_valerrs+=1\n",
    "    \n",
    "    try:\n",
    "        als_mb_auc.append(metrics.roc_auc_score(mb_pl, recs))\n",
    "        pop_mb_auc.append(metrics.roc_auc_score(mb_pl, pl_pops))        \n",
    "    except ValueError:\n",
    "        mb_valerrs+=1\n",
    "    \n",
    "    try:\n",
    "        als_lt_auc.append(metrics.roc_auc_score(lt_pl, recs))\n",
    "        pop_lt_auc.append(metrics.roc_auc_score(lt_pl, pl_pops))        \n",
    "    except ValueError:\n",
    "        lt_valerrs+=1\n",
    "        \n",
    "    return"
   ]
  },
  {
   "cell_type": "code",
   "execution_count": 13,
   "metadata": {},
   "outputs": [],
   "source": [
    "def main():\n",
    "    \n",
    "    global train, pops\n",
    "    \n",
    "    loadData()\n",
    "    #print(\"Loaded...\")\n",
    "    \n",
    "    shuffleData()\n",
    "    #print(\"Shuffled...\")\n",
    "    \n",
    "    sortData()\n",
    "    #print(\"Sorted...\")\n",
    "    \n",
    "    #cutData(cutoff)#cutoff\n",
    "    #print(\"Cut...\")\n",
    "    \n",
    "    buildData(.2, num_test) #percent_mask, num_test_items\n",
    "    #print(\"Sets built...\")\n",
    "    \n",
    "    pops = np.array(np.ravel(np.sum(train, axis=0)))\n",
    "    \n",
    "    if normali:\n",
    "        train = sknormalize(train, axis = 0)\n",
    "    \n",
    "    trainModel(factors, regularization, alpha) #factors, regularization, alpha\n",
    "    \n",
    "    testData(num_test)#test songs\n",
    "\n",
    "    #print(\"All tasks completed successfully.\")\n",
    "\n",
    "    return"
   ]
  },
  {
   "cell_type": "code",
   "execution_count": 14,
   "metadata": {
    "scrolled": true
   },
   "outputs": [
    {
     "name": "stderr",
     "output_type": "stream",
     "text": [
      "WARNING:root:Intel MKL BLAS detected. Its highly recommend to set the environment variable 'export MKL_NUM_THREADS=1' to disable its internal multithreading\n",
      "100%|██████████████████████████████████████████████████████████████████| 15.0/15 [12:01<00:00, 52.97s/it, loss=0.00223]\n"
     ]
    },
    {
     "data": {
      "application/vnd.jupyter.widget-view+json": {
       "model_id": "d66c120412ba45068a5aba29878750de",
       "version_major": 2,
       "version_minor": 0
      },
      "text/plain": [
       "HBox(children=(IntProgress(value=0, max=1000), HTML(value='')))"
      ]
     },
     "metadata": {},
     "output_type": "display_data"
    },
    {
     "name": "stdout",
     "output_type": "stream",
     "text": [
      "\n",
      "reg: 0.0625\n",
      "alpha: 512\n",
      "normalized: False\n",
      "ALS\n",
      "avg total: 0.9739791048735005\n",
      "avg sh: 0.9927075164423007\n",
      "avg mb: 0.990166235703118\n",
      "avg lt: 0.9331768856357165\n",
      "POP\n",
      "avg total: 0.9503153584957311\n",
      "avg sh: 0.9995637401301841\n",
      "avg mb: 0.9961091578891565\n",
      "avg lt: 0.891015494673396\n"
     ]
    },
    {
     "name": "stderr",
     "output_type": "stream",
     "text": [
      "100%|█████████████████████████████████████████████████████████████████| 15.0/15 [12:06<00:00, 52.91s/it, loss=0.000802]\n"
     ]
    },
    {
     "data": {
      "application/vnd.jupyter.widget-view+json": {
       "model_id": "4cfc94db7fad40a8adf455df5b78d07d",
       "version_major": 2,
       "version_minor": 0
      },
      "text/plain": [
       "HBox(children=(IntProgress(value=0, max=1000), HTML(value='')))"
      ]
     },
     "metadata": {},
     "output_type": "display_data"
    },
    {
     "name": "stdout",
     "output_type": "stream",
     "text": [
      "\n",
      "reg: 0.5\n",
      "alpha: 512\n",
      "normalized: True\n",
      "ALS\n",
      "avg total: 0.9831526146954662\n",
      "avg sh: 0.9942900182803885\n",
      "avg mb: 0.9927869359933881\n",
      "avg lt: 0.9613112283365279\n",
      "POP\n",
      "avg total: 0.9557925182120979\n",
      "avg sh: 0.9995597102979362\n",
      "avg mb: 0.9960399627812364\n",
      "avg lt: 0.9047575347728561\n"
     ]
    }
   ],
   "source": [
    "mkl.set_num_threads(1)\n",
    "\n",
    "sh_valerrs = 0\n",
    "mb_valerrs = 0\n",
    "lt_valerrs = 0\n",
    "als_tot_auc = []\n",
    "als_sh_auc = []\n",
    "als_mb_auc = []\n",
    "als_lt_auc = []\n",
    "pop_tot_auc = []\n",
    "pop_sh_auc = []\n",
    "pop_mb_auc = []\n",
    "pop_lt_auc = []\n",
    "model = 0\n",
    "train = 0\n",
    "test = 0\n",
    "masked = 0\n",
    "pops = 0\n",
    "playlist_names = 0\n",
    "playlist_followers = 0\n",
    "s_track_names = 0\n",
    "s_track_frequencies = 0\n",
    "mat = 0\n",
    "sh = 2641\n",
    "mb = 22530\n",
    "#cutoff = 369199\n",
    "factors = 192\n",
    "normali = False\n",
    "regularization = .0625\n",
    "alpha = 512\n",
    "num_test = 1000\n",
    "main()\n",
    "\n",
    "mkl.set_num_threads(1)\n",
    "\n",
    "sh_valerrs = 0\n",
    "mb_valerrs = 0\n",
    "lt_valerrs = 0\n",
    "als_tot_auc = []\n",
    "als_sh_auc = []\n",
    "als_mb_auc = []\n",
    "als_lt_auc = []\n",
    "pop_tot_auc = []\n",
    "pop_sh_auc = []\n",
    "pop_mb_auc = []\n",
    "pop_lt_auc = []\n",
    "model = 0\n",
    "train = 0\n",
    "test = 0\n",
    "masked = 0\n",
    "pops = 0\n",
    "playlist_names = 0\n",
    "playlist_followers = 0\n",
    "s_track_names = 0\n",
    "s_track_frequencies = 0\n",
    "mat = 0\n",
    "sh = 2641\n",
    "mb = 22530\n",
    "#cutoff = 369199\n",
    "factors = 192\n",
    "normali = True\n",
    "regularization = .5\n",
    "alpha = 512\n",
    "num_test = 1000\n",
    "main()"
   ]
  },
  {
   "cell_type": "code",
   "execution_count": null,
   "metadata": {},
   "outputs": [],
   "source": []
  },
  {
   "cell_type": "code",
   "execution_count": 15,
   "metadata": {},
   "outputs": [
    {
     "data": {
      "text/plain": [
       "'for uncut dataset\\nfirst third of density is at: 2641\\nsecond third of density is at: 22530\\n\\nfor cut dataset:\\nfirst third of density is at: 2303\\nsecond third of density is at: 16841\\n'"
      ]
     },
     "execution_count": 15,
     "metadata": {},
     "output_type": "execute_result"
    }
   ],
   "source": [
    "'''for uncut dataset\n",
    "first third of density is at: 2641\n",
    "second third of density is at: 22530\n",
    "\n",
    "for cut dataset:\n",
    "first third of density is at: 2303\n",
    "second third of density is at: 16841\n",
    "'''"
   ]
  },
  {
   "cell_type": "code",
   "execution_count": 16,
   "metadata": {},
   "outputs": [
    {
     "data": {
      "text/plain": [
       "'sh = 2302\\nmb = 19141\\ncutoff = 369199\\nfactors = 192\\nnormali = True\\nregularization = .0625\\nalpha = 64\\nnum_test = 500\\nfor i in range(4):\\n    for j in range(4):\\n\\n        sh_valerrs = 0\\n        mb_valerrs = 0\\n        lt_valerrs = 0\\n        tot_auc = []\\n        sh_auc = []\\n        mb_auc = []\\n        lt_auc = []\\n        model = 0\\n        train = 0\\n        test = 0\\n        masked = 0\\n        pops = 0\\n        playlist_names = 0\\n        playlist_followers = 0\\n        s_track_names = 0\\n        s_track_frequencies = 0\\n        mat = 0\\n        main()\\n        alpha *= 2\\n    regularization *= 4\\n    alpha = 64\\n    \\nregularization = .0625\\nalpha = 64\\n\\nnormali = False\\n\\nfor i in range(4):\\n    for j in range(4):\\n\\n        sh_valerrs = 0\\n        mb_valerrs = 0\\n        lt_valerrs = 0\\n        tot_auc = []\\n        sh_auc = []\\n        mb_auc = []\\n        lt_auc = []\\n        model = 0\\n        train = 0\\n        test = 0\\n        masked = 0\\n        pops = 0\\n        playlist_names = 0\\n        playlist_followers = 0\\n        s_track_names = 0\\n        s_track_frequencies = 0\\n        mat = 0\\n        main()\\n        alpha *= 2\\n    regularization *= 4\\n    alpha = 64\\n    '"
      ]
     },
     "execution_count": 16,
     "metadata": {},
     "output_type": "execute_result"
    }
   ],
   "source": [
    "'''sh = 2302\n",
    "mb = 19141\n",
    "cutoff = 369199\n",
    "factors = 192\n",
    "normali = True\n",
    "regularization = .0625\n",
    "alpha = 64\n",
    "num_test = 500\n",
    "for i in range(4):\n",
    "    for j in range(4):\n",
    "\n",
    "        sh_valerrs = 0\n",
    "        mb_valerrs = 0\n",
    "        lt_valerrs = 0\n",
    "        tot_auc = []\n",
    "        sh_auc = []\n",
    "        mb_auc = []\n",
    "        lt_auc = []\n",
    "        model = 0\n",
    "        train = 0\n",
    "        test = 0\n",
    "        masked = 0\n",
    "        pops = 0\n",
    "        playlist_names = 0\n",
    "        playlist_followers = 0\n",
    "        s_track_names = 0\n",
    "        s_track_frequencies = 0\n",
    "        mat = 0\n",
    "        main()\n",
    "        alpha *= 2\n",
    "    regularization *= 4\n",
    "    alpha = 64\n",
    "    \n",
    "regularization = .0625\n",
    "alpha = 64\n",
    "\n",
    "normali = False\n",
    "\n",
    "for i in range(4):\n",
    "    for j in range(4):\n",
    "\n",
    "        sh_valerrs = 0\n",
    "        mb_valerrs = 0\n",
    "        lt_valerrs = 0\n",
    "        tot_auc = []\n",
    "        sh_auc = []\n",
    "        mb_auc = []\n",
    "        lt_auc = []\n",
    "        model = 0\n",
    "        train = 0\n",
    "        test = 0\n",
    "        masked = 0\n",
    "        pops = 0\n",
    "        playlist_names = 0\n",
    "        playlist_followers = 0\n",
    "        s_track_names = 0\n",
    "        s_track_frequencies = 0\n",
    "        mat = 0\n",
    "        main()\n",
    "        alpha *= 2\n",
    "    regularization *= 4\n",
    "    alpha = 64\n",
    "    '''"
   ]
  },
  {
   "cell_type": "code",
   "execution_count": 17,
   "metadata": {},
   "outputs": [
    {
     "data": {
      "text/plain": [
       "\"\\nreg: 0.0625\\nalpha: 1000\\nnormalized: True\\nALS normalized\\navg total: 0.9805580801601111\\navg sh: 0.991411154656214\\navg mb: 0.9889732088598824\\navg lt: 0.9505102546825114\\n\\n\\nALS standard\\navg total: 0.9820323031181131\\navg sh: 0.9962993745213498\\navg mb: 0.9879645241354366\\navg lt: 0.9483032883499841\\n\\n\\nPOP\\navg total: 0.8937503409847241\\navg sh: 0.9975566624494981\\navg mb: 0.9783287241832815\\navg lt: 0.7621075699444444\\n\\nquick hack for lt recs, doesn't hurt short head recommendation\\n\\nbroke into 4 sections\\nreg: 0.0625\\nalpha: 1000\\nnormalized: False\\nALS\\navg total: 0.9820323031181131\\navg sh: 0.9962993745213498\\navg mb: 0.9879645241354366\\navg lt: 0.9483032883499841\\nPOP\\navg total: 0.8938976857958685\\navg sh: 0.9976060576921425\\navg mb: 0.9792021772836429\\navg lt: 0.7550828705262271\\n\""
      ]
     },
     "execution_count": 17,
     "metadata": {},
     "output_type": "execute_result"
    }
   ],
   "source": [
    "'''\n",
    "reg: 0.0625\n",
    "alpha: 1000\n",
    "normalized: True\n",
    "ALS normalized\n",
    "avg total: 0.9805580801601111\n",
    "avg sh: 0.991411154656214\n",
    "avg mb: 0.9889732088598824\n",
    "avg lt: 0.9505102546825114\n",
    "\n",
    "\n",
    "ALS standard\n",
    "avg total: 0.9820323031181131\n",
    "avg sh: 0.9962993745213498\n",
    "avg mb: 0.9879645241354366\n",
    "avg lt: 0.9483032883499841\n",
    "\n",
    "\n",
    "POP\n",
    "avg total: 0.8937503409847241\n",
    "avg sh: 0.9975566624494981\n",
    "avg mb: 0.9783287241832815\n",
    "avg lt: 0.7621075699444444\n",
    "\n",
    "quick hack for lt recs, doesn't hurt short head recommendation\n",
    " \n",
    "broke into 4 sections\n",
    "reg: 0.0625\n",
    "alpha: 1000\n",
    "normalized: False\n",
    "ALS\n",
    "avg total: 0.9820323031181131\n",
    "avg sh: 0.9962993745213498\n",
    "avg mb: 0.9879645241354366\n",
    "avg lt: 0.9483032883499841\n",
    "POP\n",
    "avg total: 0.8938976857958685\n",
    "avg sh: 0.9976060576921425\n",
    "avg mb: 0.9792021772836429\n",
    "avg lt: 0.7550828705262271\n",
    "'''"
   ]
  },
  {
   "cell_type": "code",
   "execution_count": null,
   "metadata": {},
   "outputs": [],
   "source": []
  }
 ],
 "metadata": {
  "kernelspec": {
   "display_name": "Python 3",
   "language": "python",
   "name": "python3"
  },
  "language_info": {
   "codemirror_mode": {
    "name": "ipython",
    "version": 3
   },
   "file_extension": ".py",
   "mimetype": "text/x-python",
   "name": "python",
   "nbconvert_exporter": "python",
   "pygments_lexer": "ipython3",
   "version": "3.7.3"
  }
 },
 "nbformat": 4,
 "nbformat_minor": 2
}
